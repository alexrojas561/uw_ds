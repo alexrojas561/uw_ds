{
 "cells": [
  {
   "cell_type": "code",
   "execution_count": 44,
   "metadata": {},
   "outputs": [],
   "source": [
    "import json\n",
    "\n",
    "afinnfile = open('AFINN-111.txt')\n",
    "\n",
    "scores = {} # initialize an empty dictionary\n",
    "for line in afinnfile:\n",
    "    term, score  = line.split(\"\\t\")  # The file is tab-delimited. \"\\t\" means \"tab character\"\n",
    "    scores[term] = int(score)  # Convert the score to an integer.\n",
    "\n",
    "tweets = []\n",
    "with open('output.json', 'r') as myfile:\n",
    "    for line in myfile:\n",
    "        tweets.append(json.loads(line))"
   ]
  },
  {
   "cell_type": "code",
   "execution_count": 94,
   "metadata": {},
   "outputs": [],
   "source": [
    "total_sent = []\n",
    "\n",
    "for i in tweets:\n",
    "    words = i['data']['text'].split(' ')\n",
    "    sent = [scores.get(j) for j in words]\n",
    "    total_sent.append(sum(filter(None, sent)))  "
   ]
  },
  {
   "cell_type": "code",
   "execution_count": null,
   "metadata": {},
   "outputs": [],
   "source": []
  }
 ],
 "metadata": {
  "kernelspec": {
   "display_name": "Python 3",
   "language": "python",
   "name": "python3"
  },
  "language_info": {
   "codemirror_mode": {
    "name": "ipython",
    "version": 3
   },
   "file_extension": ".py",
   "mimetype": "text/x-python",
   "name": "python",
   "nbconvert_exporter": "python",
   "pygments_lexer": "ipython3",
   "version": "3.8.12"
  }
 },
 "nbformat": 4,
 "nbformat_minor": 4
}
